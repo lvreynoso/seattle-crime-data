{
 "cells": [
  {
   "cell_type": "markdown",
   "metadata": {},
   "source": [
    "##  Seattle Crime Data Coding Challenge\n",
    "- This coding challenge is not open ended.\n",
    "- This is to ensure that you practice some basic data analysis skill."
   ]
  },
  {
   "cell_type": "code",
   "execution_count": 1,
   "metadata": {
    "collapsed": true
   },
   "outputs": [],
   "source": [
    "%matplotlib inline\n",
    "import numpy  as np\n",
    "import pandas as pd\n",
    "import matplotlib.pyplot as plt"
   ]
  },
  {
   "cell_type": "code",
   "execution_count": 2,
   "metadata": {
    "collapsed": false
   },
   "outputs": [
    {
     "name": "stdout",
     "output_type": "stream",
     "text": [
      "(509236, 11)\n"
     ]
    },
    {
     "data": {
      "text/plain": [
       "Index(['Report Number', 'Occurred Date', 'Occurred Time', 'Reported Date',\n",
       "       'Reported Time', 'Crime Subcategory', 'Primary Offense Description',\n",
       "       'Precinct', 'Sector', 'Beat', 'Neighborhood'],\n",
       "      dtype='object')"
      ]
     },
     "execution_count": 2,
     "metadata": {},
     "output_type": "execute_result"
    }
   ],
   "source": [
    "crimes = pd.read_csv('./Crime_Data.csv.gz')\n",
    "print(crimes.shape)\n",
    "crimes.columns"
   ]
  },
  {
   "cell_type": "code",
   "execution_count": 3,
   "metadata": {
    "collapsed": false
   },
   "outputs": [
    {
     "data": {
      "text/plain": [
       "array(['SOUTHWEST', 'WEST', 'NORTH', 'UNKNOWN', 'EAST', 'SOUTH', nan],\n",
       "      dtype=object)"
      ]
     },
     "execution_count": 3,
     "metadata": {},
     "output_type": "execute_result"
    }
   ],
   "source": [
    "crimes.Precinct.unique()"
   ]
  },
  {
   "cell_type": "code",
   "execution_count": 4,
   "metadata": {
    "collapsed": false
   },
   "outputs": [
    {
     "data": {
      "text/plain": [
       "array(['W1', 'D1', 'L1', 'N3', 'Q2', 'J3', 'N2', 'Q3', nan, 'N1', 'E1',\n",
       "       'B2', 'B1', 'W2', 'B3', 'M1', 'Q1', 'R2', 'G3', 'U3', 'L3', 'W3',\n",
       "       'L2', 'G1', 'D2', 'D3', 'E3', 'J2', 'U2', 'K2', 'E2', 'O3', 'S1',\n",
       "       'U1', 'J1', 'S2', 'M2', 'O1', 'S3', 'C1', 'O2', 'M3', 'F1', 'R3',\n",
       "       'C2', 'C3', 'G2', 'K1', 'K3', 'F3', 'R1', 'W', 'S', 'F2', 'H1',\n",
       "       'X9', 'CS', 'INV', 'CTY', 'LAPT', 'N', 'DET', 'SS', 'WS', 'K'],\n",
       "      dtype=object)"
      ]
     },
     "execution_count": 4,
     "metadata": {},
     "output_type": "execute_result"
    }
   ],
   "source": [
    "crimes.Beat.unique()"
   ]
  },
  {
   "cell_type": "markdown",
   "metadata": {},
   "source": [
    "## Question\n",
    "- Report the names of the columns which have missingness"
   ]
  },
  {
   "cell_type": "code",
   "execution_count": 1,
   "metadata": {
    "collapsed": false
   },
   "outputs": [],
   "source": [
    "### Your Solution Here"
   ]
  },
  {
   "cell_type": "markdown",
   "metadata": {},
   "source": [
    "## Question: \n",
    "- Report the numbers of distinct **Reported Dates** and distinct **Occurred Dates**, respectively.\n",
    "- Convert the **Occurred Date** + **Occurred Time**, **Reported Date** + **Reported Time** from strings to datetime objects\n",
    "\n",
    "- **Hint**: The panadas function **pd.to_datetime** can help"
   ]
  },
  {
   "cell_type": "markdown",
   "metadata": {},
   "source": [
    "- The loaded Occurred/Reported Time appears to be a float like '1930.0'. This should be interpreted as '19:30:00' eventually\n",
    "- Those time stamp like '30.0', '20.0' should be treated as missing values "
   ]
  },
  {
   "cell_type": "code",
   "execution_count": 11,
   "metadata": {
    "collapsed": false
   },
   "outputs": [
    {
     "name": "stdout",
     "output_type": "stream",
     "text": [
      "There are 4508 distinct occurred dates\n",
      "There are 4186 distinct reported dates\n"
     ]
    }
   ],
   "source": [
    "### Your Solution Here"
   ]
  },
  {
   "cell_type": "markdown",
   "metadata": {},
   "source": [
    "## Question: \n",
    "- Report the statistics (i.e. mean and std) of time gaps between **Reported Date** vs **Occurred Date**.\n",
    "- Report the median lag of reporting time from event occurrance time.\n",
    "- Why do the **mean lag** and the **median lag** differ so much?\n",
    "- Plot the histogram of the distribution of **days**, how would you deal with the outliers?"
   ]
  },
  {
   "cell_type": "code",
   "execution_count": 13,
   "metadata": {
    "collapsed": false
   },
   "outputs": [
    {
     "data": {
      "text/plain": [
       "count                      509234\n",
       "mean       7 days 15:37:55.236492\n",
       "std      139 days 01:11:36.392617\n",
       "min             -1 days +01:20:00\n",
       "25%               0 days 00:03:00\n",
       "50%               0 days 04:40:00\n",
       "75%               0 days 20:49:00\n",
       "max           36525 days 00:00:00\n",
       "dtype: object"
      ]
     },
     "execution_count": 13,
     "metadata": {},
     "output_type": "execute_result"
    }
   ],
   "source": [
    "### Your Solution Here"
   ]
  },
  {
   "cell_type": "markdown",
   "metadata": {},
   "source": [
    "- The median lag is **4 hours 40 minutes**.\n",
    "- The raw histogram below looks trivial as there is some outlier in the data."
   ]
  },
  {
   "cell_type": "code",
   "execution_count": 14,
   "metadata": {
    "collapsed": false,
    "scrolled": true
   },
   "outputs": [
    {
     "data": {
      "text/plain": [
       "(array([5.09061e+05, 1.48000e+02, 1.20000e+01, 8.00000e+00, 4.00000e+00,\n",
       "        0.00000e+00, 0.00000e+00, 0.00000e+00, 0.00000e+00, 1.00000e+00]),\n",
       " array([-1.00000e+00,  3.65160e+03,  7.30420e+03,  1.09568e+04,\n",
       "         1.46094e+04,  1.82620e+04,  2.19146e+04,  2.55672e+04,\n",
       "         2.92198e+04,  3.28724e+04,  3.65250e+04]),\n",
       " <a list of 10 Patch objects>)"
      ]
     },
     "execution_count": 14,
     "metadata": {},
     "output_type": "execute_result"
    },
    {
     "data": {
      "image/png": "[encoded data removed]",
      "text/plain": [
       "<Figure size 432x288 with 1 Axes>"
      ]
     },
     "metadata": {},
     "output_type": "display_data"
    }
   ],
   "source": [
    "### Your Solution Here"
   ]
  },
  {
   "cell_type": "code",
   "execution_count": 16,
   "metadata": {
    "collapsed": false,
    "scrolled": false
   },
   "outputs": [
    {
     "data": {
      "text/plain": [
       "(array([394765.,  36091.,  18342.,  10774.,   6835.,   5148.,   3922.,\n",
       "          3385.,   2240.,  27732.]),\n",
       " array([ 0.,  1.,  2.,  3.,  4.,  5.,  6.,  7.,  8.,  9., 10.]),\n",
       " <a list of 10 Patch objects>)"
      ]
     },
     "execution_count": 16,
     "metadata": {},
     "output_type": "execute_result"
    },
    {
     "data": {
      "image/png": "[encoded data removed]",
      "text/plain": [
       "<Figure size 432x288 with 1 Axes>"
      ]
     },
     "metadata": {},
     "output_type": "display_data"
    }
   ],
   "source": [
    "### Your Solution Here"
   ]
  },
  {
   "cell_type": "code",
   "execution_count": 17,
   "metadata": {
    "collapsed": false,
    "scrolled": false
   },
   "outputs": [
    {
     "data": {
      "text/plain": [
       "(array([3.00000e+01, 3.94735e+05, 3.60910e+04, 1.83420e+04, 1.07740e+04,\n",
       "        6.83500e+03, 5.14800e+03, 3.92200e+03, 3.38500e+03, 4.17600e+03]),\n",
       " array([-1.,  0.,  1.,  2.,  3.,  4.,  5.,  6.,  7.,  8.,  9.]),\n",
       " <a list of 10 Patch objects>)"
      ]
     },
     "execution_count": 17,
     "metadata": {},
     "output_type": "execute_result"
    },
    {
     "data": {
      "image/png": "[encoded data removed]",
      "text/plain": [
       "<Figure size 432x288 with 1 Axes>"
      ]
     },
     "metadata": {},
     "output_type": "display_data"
    }
   ],
   "source": [
    "### Your Solution Here"
   ]
  },
  {
   "cell_type": "markdown",
   "metadata": {},
   "source": [
    "## Question\n",
    "- What time period has more prevalent crime occurance?\n",
    "- In this question, we should treat any invalid/missing time value as missing and avoid to impute them.\n",
    "- We group the 24 hours window into 6 groups '12am-4am', '4am-8am', '8am-12pm', '12pm-4pm', '4pm-8pm', '8pm-12am'."
   ]
  },
  {
   "cell_type": "code",
   "execution_count": 19,
   "metadata": {
    "collapsed": true
   },
   "outputs": [],
   "source": [
    "### Your Solution Here"
   ]
  },
  {
   "cell_type": "markdown",
   "metadata": {},
   "source": [
    "- We round the hour to the next full hour modulo 24"
   ]
  },
  {
   "cell_type": "code",
   "execution_count": 21,
   "metadata": {
    "collapsed": false
   },
   "outputs": [
    {
     "data": {
      "text/html": [
       "<div>\n",
       "<style scoped>\n",
       "    .dataframe tbody tr th:only-of-type {\n",
       "        vertical-align: middle;\n",
       "    }\n",
       "\n",
       "    .dataframe tbody tr th {\n",
       "        vertical-align: top;\n",
       "    }\n",
       "\n",
       "    .dataframe thead th {\n",
       "        text-align: right;\n",
       "    }\n",
       "</style>\n",
       "<table border=\"1\" class=\"dataframe\">\n",
       "  <thead>\n",
       "    <tr style=\"text-align: right;\">\n",
       "      <th></th>\n",
       "      <th>value</th>\n",
       "    </tr>\n",
       "    <tr>\n",
       "      <th>time window</th>\n",
       "      <th></th>\n",
       "    </tr>\n",
       "  </thead>\n",
       "  <tbody>\n",
       "    <tr>\n",
       "      <th>4pm-8pm</th>\n",
       "      <td>119733</td>\n",
       "    </tr>\n",
       "    <tr>\n",
       "      <th>8pm-12am</th>\n",
       "      <td>116687</td>\n",
       "    </tr>\n",
       "    <tr>\n",
       "      <th>12pm-4pm</th>\n",
       "      <td>95817</td>\n",
       "    </tr>\n",
       "    <tr>\n",
       "      <th>8am-12pm</th>\n",
       "      <td>64078</td>\n",
       "    </tr>\n",
       "    <tr>\n",
       "      <th>12am-4am</th>\n",
       "      <td>49085</td>\n",
       "    </tr>\n",
       "    <tr>\n",
       "      <th>4am-8am</th>\n",
       "      <td>32425</td>\n",
       "    </tr>\n",
       "  </tbody>\n",
       "</table>\n",
       "</div>"
      ],
      "text/plain": [
       "              value\n",
       "time window        \n",
       "4pm-8pm      119733\n",
       "8pm-12am     116687\n",
       "12pm-4pm      95817\n",
       "8am-12pm      64078\n",
       "12am-4am      49085\n",
       "4am-8am       32425"
      ]
     },
     "execution_count": 21,
     "metadata": {},
     "output_type": "execute_result"
    }
   ],
   "source": [
    "### Your Solution Here"
   ]
  },
  {
   "cell_type": "markdown",
   "metadata": {},
   "source": [
    "## Conclusion\n",
    "- Without conditioning on the crime types, the **4-8pm**, **8pm-12am** are the most prevalent time window for crimes.\n",
    "- **12pm-4pm** follows.  Most of the crimes happen during the **12pm-12am** cycle and particularly **after the dark**.\n",
    "- More insight should be gained when we combine the above analysis with the crime types."
   ]
  },
  {
   "cell_type": "markdown",
   "metadata": {},
   "source": [
    "## Question:\n",
    "- Find all the crime subcategories in the data set and report the sample counts/subcategory.\n",
    "- Which three subcategories have the top three event counts?"
   ]
  },
  {
   "cell_type": "code",
   "execution_count": 2,
   "metadata": {
    "collapsed": false
   },
   "outputs": [],
   "source": [
    "### Your Solution Here"
   ]
  },
  {
   "cell_type": "markdown",
   "metadata": {},
   "source": [
    "- **Car Prowl** **Theft-All Other**, **Theft-Shoplift** are the top three subcategories."
   ]
  },
  {
   "cell_type": "markdown",
   "metadata": {},
   "source": [
    "## Grouping Subcategories into Eight Major Crime Types\n",
    "\n",
    "- The crime subcategories are too fine-grained for our analysis.\n",
    "- We regroup several subcategories together into $8$ major categories\n",
    "- Thefts\n",
    "- Burglary\n",
    "- Robbery\n",
    "- Alcohol_Drug\n",
    "- Sex_Related\n",
    "- Homicide\n",
    "- Misc"
   ]
  },
  {
   "cell_type": "code",
   "execution_count": 3,
   "metadata": {
    "collapsed": false
   },
   "outputs": [],
   "source": [
    "### Your Solution Here"
   ]
  },
  {
   "cell_type": "markdown",
   "metadata": {},
   "source": [
    "## Question: Neighborhood Crime Percentages \n",
    "- Report the event counts of each major crime type and report the ranking of **robbery**.\n",
    "\n",
    "**Definition**: In the following, the major crime percentage refers to the percentage \n",
    "    of a single major crime type among the **8** types in a neighorhood.\n",
    "    \n",
    "- Which neighborhood has the highest **homicide** percentage?\n",
    "- Which neighborhood has the highest **burglary** percentage?\n",
    "- Which neighborhood has the highest **robbery** percentage?"
   ]
  },
  {
   "cell_type": "markdown",
   "metadata": {},
   "source": [
    "## Step 1:\n",
    "- Construct a dictionary (mapping) from the subcategories to the corresponding major crime types \n",
    "- For example, we would like to map **CAR PROWL**, **MOTOR VEHICLE THEFT**, ... to 'thefts'.\n",
    "- We would like to map **ROBBERY-STREET**, **ROBBERY-RESIDENTIAL**,... to 'robbery', etc."
   ]
  },
  {
   "cell_type": "code",
   "execution_count": 4,
   "metadata": {
    "collapsed": true
   },
   "outputs": [],
   "source": [
    "### Your Solution Here"
   ]
  },
  {
   "cell_type": "markdown",
   "metadata": {},
   "source": [
    "- Create a new column called (crime) classification by mapping using a lambda function constructed by the above\n",
    "mapping dictionary."
   ]
  },
  {
   "cell_type": "code",
   "execution_count": 5,
   "metadata": {
    "collapsed": false
   },
   "outputs": [],
   "source": [
    "### Your Solution Here"
   ]
  },
  {
   "cell_type": "markdown",
   "metadata": {},
   "source": [
    "## Question\n",
    "- In the following, restrict to crime events occurred in-between **2008-2018**.\n",
    "- Report the crime event counts in terms of **occurred years**. \n",
    "- Which year has the lowest and highest crime event counts, respectively?\n",
    "- Report the crime event counts in terms of **occurred year-quarters**.\n",
    "- Which **year-quarter** has the lowest and highest crime event counts, respectively?"
   ]
  },
  {
   "cell_type": "markdown",
   "metadata": {},
   "source": [
    "- To answer the above questions, create two columns named **Year**, **Year_Quarter**, respectively."
   ]
  },
  {
   "cell_type": "code",
   "execution_count": 6,
   "metadata": {
    "collapsed": true
   },
   "outputs": [],
   "source": [
    "### Your Solution Here"
   ]
  },
  {
   "cell_type": "markdown",
   "metadata": {},
   "source": [
    "- Select years to be within **2008** to **2018**"
   ]
  },
  {
   "cell_type": "code",
   "execution_count": 7,
   "metadata": {
    "collapsed": false
   },
   "outputs": [],
   "source": [
    "### Your Solution Here"
   ]
  },
  {
   "cell_type": "markdown",
   "metadata": {},
   "source": [
    "## Question (continuation)\n",
    "- In terms of **winter**, **spring**, **summer**, and **autumn** quarters, what is the average quarterly crime count in each quarter?\n",
    "- Display your insight using a bar plot."
   ]
  },
  {
   "cell_type": "code",
   "execution_count": 8,
   "metadata": {
    "collapsed": true
   },
   "outputs": [],
   "source": [
    "### Your Solution Here"
   ]
  },
  {
   "cell_type": "markdown",
   "metadata": {},
   "source": [
    "## Conclusion \n",
    "\n",
    "- On average the **winter** quarter has the lowest crime count while the **summer** quarter has the highest crime count.\n",
    "- To make sure that this observation is sound, we perform a one-way **ANOVA** F-test on these populations "
   ]
  },
  {
   "cell_type": "code",
   "execution_count": 9,
   "metadata": {
    "collapsed": true
   },
   "outputs": [],
   "source": [
    "from scipy.stats import f_oneway"
   ]
  },
  {
   "cell_type": "code",
   "execution_count": 10,
   "metadata": {
    "collapsed": false,
    "scrolled": false
   },
   "outputs": [],
   "source": [
    "### Your Solution Here"
   ]
  },
  {
   "cell_type": "markdown",
   "metadata": {},
   "source": [
    "## Summary \n",
    "- Notice that we compare the winter vs summer quarters only.  The **p-value** is slightly below the $5\\%$ threshold.\n",
    "- Based on $5\\%$ condidence, we can reject the null hypothesis and accept the alternative. \n",
    "- Based on the current data, it seems that there is a significant difference between the winter vs summer crime counts.\n",
    "- We may speculate that the weather has played an essential role here.\n",
    "- If we test all four quarters together, the **p-value** would be in-significant. This indicates that the additional\n",
    "**spring**, **autumn** quarters make the water muddy."
   ]
  },
  {
   "cell_type": "markdown",
   "metadata": {},
   "source": [
    "## Question\n",
    "- Analyze the crime prevalence in terms of week days.\n",
    "- Which weekday (Sunday, Monday, ....Saturday) has highest/lowest average daily crime count?"
   ]
  },
  {
   "cell_type": "code",
   "execution_count": 11,
   "metadata": {
    "collapsed": false
   },
   "outputs": [],
   "source": [
    "### Your Solution Here"
   ]
  },
  {
   "cell_type": "markdown",
   "metadata": {},
   "source": [
    "## Summary\n",
    "- **Sunday** has lowest average daily crime count.\n",
    "- **Friday** has the highest average daily crime count.\n",
    "- **Monday-Thursday** daily crime counts are relatively unchanged."
   ]
  },
  {
   "cell_type": "markdown",
   "metadata": {},
   "source": [
    "## Question: \n",
    "- What happens to the week day's daily crime counts if we break the data into different crime types?\n",
    "- Generalize your previous analysis to rank the weekdays (according to the average daily crime count) of each major crime type."
   ]
  },
  {
   "cell_type": "code",
   "execution_count": 12,
   "metadata": {
    "collapsed": false
   },
   "outputs": [],
   "source": [
    "### Your Solution Here"
   ]
  },
  {
   "cell_type": "markdown",
   "metadata": {},
   "source": [
    "## Obervations\n",
    "\n",
    "- **alcohol_drug**, **physical_harm**, **robbery** are most prevalent on Saturdays.\n",
    "- **burglary**, **sex_related**, **thefts** and *misc** are most prevalent on Fridays.\n",
    "- **homicide** are most prevalent on Wednesdays."
   ]
  },
  {
   "cell_type": "markdown",
   "metadata": {},
   "source": [
    "## Question\n",
    "- Study the crime prevalence for different major crime types, i.e. what are the **most active** time-window for each major crime type?   "
   ]
  },
  {
   "cell_type": "markdown",
   "metadata": {},
   "source": [
    "- We will analyze the **mappedTimeWindow** and the **Classification** column of crimes dataframe."
   ]
  },
  {
   "cell_type": "code",
   "execution_count": 54,
   "metadata": {
    "collapsed": true
   },
   "outputs": [],
   "source": [
    "X  = pd.DataFrame({'time window':mappedTimeWindows, 'major crime type':crimes['Classification'], 'value':np.ones_like(mappedTimeWindows)}).dropna()\n",
    "X  = X.groupby(['time window', 'major crime type']).count().reset_index().pivot(index='time window', columns='major crime type', values='value')"
   ]
  },
  {
   "cell_type": "code",
   "execution_count": 55,
   "metadata": {
    "collapsed": false
   },
   "outputs": [
    {
     "data": {
      "text/html": [
       "<div>\n",
       "<style scoped>\n",
       "    .dataframe tbody tr th:only-of-type {\n",
       "        vertical-align: middle;\n",
       "    }\n",
       "\n",
       "    .dataframe tbody tr th {\n",
       "        vertical-align: top;\n",
       "    }\n",
       "\n",
       "    .dataframe thead th {\n",
       "        text-align: right;\n",
       "    }\n",
       "</style>\n",
       "<table border=\"1\" class=\"dataframe\">\n",
       "  <thead>\n",
       "    <tr style=\"text-align: right;\">\n",
       "      <th></th>\n",
       "      <th>alcohol_drug</th>\n",
       "      <th>burglary</th>\n",
       "      <th>homicide</th>\n",
       "      <th>misc</th>\n",
       "      <th>physical_harm</th>\n",
       "      <th>robbery</th>\n",
       "      <th>sex_related</th>\n",
       "      <th>thefts</th>\n",
       "    </tr>\n",
       "  </thead>\n",
       "  <tbody>\n",
       "    <tr>\n",
       "      <th>top</th>\n",
       "      <td>8pm-12am</td>\n",
       "      <td>4pm-8pm</td>\n",
       "      <td>12am-4am</td>\n",
       "      <td>12pm-4pm</td>\n",
       "      <td>8pm-12am</td>\n",
       "      <td>8pm-12am</td>\n",
       "      <td>8pm-12am</td>\n",
       "      <td>4pm-8pm</td>\n",
       "    </tr>\n",
       "    <tr>\n",
       "      <th>second</th>\n",
       "      <td>12am-4am</td>\n",
       "      <td>8am-12pm</td>\n",
       "      <td>8pm-12am</td>\n",
       "      <td>4pm-8pm</td>\n",
       "      <td>4pm-8pm</td>\n",
       "      <td>4pm-8pm</td>\n",
       "      <td>4pm-8pm</td>\n",
       "      <td>8pm-12am</td>\n",
       "    </tr>\n",
       "    <tr>\n",
       "      <th>third</th>\n",
       "      <td>4pm-8pm</td>\n",
       "      <td>12pm-4pm</td>\n",
       "      <td>4pm-8pm</td>\n",
       "      <td>8am-12pm</td>\n",
       "      <td>12am-4am</td>\n",
       "      <td>12am-4am</td>\n",
       "      <td>12pm-4pm</td>\n",
       "      <td>12pm-4pm</td>\n",
       "    </tr>\n",
       "  </tbody>\n",
       "</table>\n",
       "</div>"
      ],
      "text/plain": [
       "       alcohol_drug  burglary  homicide      misc physical_harm   robbery  \\\n",
       "top        8pm-12am   4pm-8pm  12am-4am  12pm-4pm      8pm-12am  8pm-12am   \n",
       "second     12am-4am  8am-12pm  8pm-12am   4pm-8pm       4pm-8pm   4pm-8pm   \n",
       "third       4pm-8pm  12pm-4pm   4pm-8pm  8am-12pm      12am-4am  12am-4am   \n",
       "\n",
       "       sex_related    thefts  \n",
       "top       8pm-12am   4pm-8pm  \n",
       "second     4pm-8pm  8pm-12am  \n",
       "third     12pm-4pm  12pm-4pm  "
      ]
     },
     "execution_count": 55,
     "metadata": {},
     "output_type": "execute_result"
    }
   ],
   "source": [
    "topTimeWindow = {}\n",
    "for crimeType in X.columns[1:] :\n",
    "         topTimeWindow[crimeType] = X[crimeType].sort_values(ascending=False).head(3).index\n",
    "topTimeWindow = pd.DataFrame(topTimeWindow)\n",
    "\n",
    "topTimeWindow.index = ['top', 'second', 'third']\n",
    "\n",
    "topTimeWindow"
   ]
  },
  {
   "cell_type": "markdown",
   "metadata": {},
   "source": [
    "## Summary\n",
    "- For majority of the major crime types, **12pm-4pm**, **4-8pm**, **8pm-12am** are the hot windows (parallel to the\n",
    "aggregate).\n",
    "- The exceptions are **alcohol_drug**, **homicide**, **physical harm**, **robbery**, **misc**, where the morning hours\n",
    "pop up.\n",
    "\n",
    "- For **thefts/burglary**, the prime time is **4-8pm**.\n",
    "- For **alcohol_drug/physica_harm/robbery/sex_related crimes**, **8pm-12am** is the most popular time.\n",
    "- For **homicide**, after midnight **12-4am** is the most popular time window."
   ]
  },
  {
   "cell_type": "markdown",
   "metadata": {},
   "source": [
    "## Question\n",
    "- construct a table of quarterly crime counts of each major crime type.\n",
    "    - The index should be ['2008Q1', ...., '2018Q4']\n",
    "    - Each column is the time series of a given crime type. \n",
    "- For each raw time series, please compute the rolling 4-quarter moving average, please remove the missing values from your answer.\n",
    "- Plot the raw time series (dash line) and **rolling-mean** time series (solid line) of each major crime type\n",
    "- Report your insights on **alcohol_drug**, **burglary**, **physical_harm**, **thefts**. In terms of crime prevention, what types of crimes are of higher alert?\n",
    "- Which major crime type shows a clear annual seaonality?"
   ]
  },
  {
   "cell_type": "code",
   "execution_count": 59,
   "metadata": {
    "collapsed": false,
    "scrolled": false
   },
   "outputs": [
    {
     "data": {
      "text/plain": [
       "<matplotlib.legend.Legend at 0x1150469e8>"
      ]
     },
     "execution_count": 59,
     "metadata": {},
     "output_type": "execute_result"
    },
    {
     "data": {
      "image/png": "[encoded data removed]",
      "text/plain": [
       "<Figure size 432x288 with 1 Axes>"
      ]
     },
     "metadata": {},
     "output_type": "display_data"
    }
   ],
   "source": [
    "### Your Solution Here"
   ]
  },
  {
   "cell_type": "markdown",
   "metadata": {},
   "source": [
    "## Summary:\n",
    "\n",
    "- **alcohol_drug**: shows a downward trend and bounces back slightly after **2015**.\n",
    "- **burglary**: shows a clear upward trend.\n",
    "- **physical_harm**: shows a clear upward trend.\n",
    "- **thefts**: jumps upward between two plateaus.\n",
    "    \n",
    "- **physical_harm** shows a clear yearly seasonality.    \n"
   ]
  },
  {
   "cell_type": "markdown",
   "metadata": {},
   "source": [
    "## Question--Most Dangerous Neighborhood for 2019\n",
    "- Among the neighborhoods of Seatle, develop a score to rank the neighorhoods' safety.  \n",
    "- List the top 10 most dangerous neighorhood in Seatle.\n",
    "- The scores are computed by the $2008-2018$ historical quarterly crime event counts based on the following rules.\n",
    "   - Different major crime types are weights differently according to the following recipe:\n",
    "   - **alcohol_drug**:2\n",
    "   - **burglary**:6\n",
    "   - **homicide**:20\n",
    "   - **misc**:1\n",
    "   - **physical_harm**:14\n",
    "   - **robbery**:8\n",
    "   - **sex_related**:10\n",
    "   - **thefts**:2 \n",
    "- To prevent that the quarters of the earlier years dominate the score, the quarterly counts are discounted according to\n",
    "the following schedule.\n",
    "- **2018Q4** is of factor $1$.\n",
    "- Previous quarter has a discount factor of $\\lambda = 0.95$. In other words, **2018Q3** has a discount factor $0.95$ and\n",
    "**2018Q2** has the discount factor $0.95^2$, etc."
   ]
  },
  {
   "cell_type": "code",
   "execution_count": 13,
   "metadata": {
    "collapsed": true
   },
   "outputs": [],
   "source": [
    "### Your Solution Here"
   ]
  },
  {
   "cell_type": "markdown",
   "metadata": {},
   "source": [
    "- Firstly, try an example neighborhood 'ALKI'"
   ]
  },
  {
   "cell_type": "code",
   "execution_count": 14,
   "metadata": {
    "collapsed": false,
    "scrolled": true
   },
   "outputs": [],
   "source": [
    "### Your Solution Here"
   ]
  },
  {
   "cell_type": "markdown",
   "metadata": {},
   "source": [
    "- Next, handle the general case looping through the groupby object"
   ]
  },
  {
   "cell_type": "code",
   "execution_count": 15,
   "metadata": {
    "collapsed": false
   },
   "outputs": [],
   "source": [
    "### Your Solution Here"
   ]
  },
  {
   "cell_type": "markdown",
   "metadata": {},
   "source": [
    "## Question\n",
    "\n",
    "- For each year and quarter in between $2008$ and $2018$, please report the ranking of the precincts in each crime category.\n",
    "- For example the first quarter in 2009 should be denoted as '2009Q1'"
   ]
  },
  {
   "cell_type": "code",
   "execution_count": 16,
   "metadata": {
    "collapsed": true,
    "scrolled": true
   },
   "outputs": [],
   "source": [
    "### Your Solution Here"
   ]
  },
  {
   "cell_type": "markdown",
   "metadata": {},
   "source": [
    "## Question:\n",
    "- There are altogether $44$ quarters in-between $2008$ and $2018$. In each major crime category, \n",
    "a precinct is the quarterly winner (and quarterly loser, respectively) in that particular quarter if it has the lowest (highest) total crime count in that category.\n",
    "- Report the total number of quarters a precinct wins and loses in each major crime category.\n",
    "- Across all $44$ quarters, a precinct wins if it has the maximal count of quarterly winners. Likely a precint loses\n",
    " in that crime category if it has the maximal count of quarterly losers.\n",
    "- Please identify the over winner and loser for each major crime category."
   ]
  },
  {
   "cell_type": "code",
   "execution_count": 17,
   "metadata": {
    "collapsed": true
   },
   "outputs": [],
   "source": [
    "### Your Solution Here"
   ]
  },
  {
   "cell_type": "markdown",
   "metadata": {},
   "source": [
    "- To find the winner precint/major crime type, we find the argmax (called **idxmax**) along the column axis."
   ]
  },
  {
   "cell_type": "code",
   "execution_count": 18,
   "metadata": {
    "collapsed": false
   },
   "outputs": [],
   "source": [
    "### Your Solution Here"
   ]
  },
  {
   "cell_type": "markdown",
   "metadata": {},
   "source": [
    "- Using the above gauge, the **North** precint is the weakest among all precints."
   ]
  },
  {
   "cell_type": "code",
   "execution_count": 19,
   "metadata": {
    "collapsed": true
   },
   "outputs": [],
   "source": [
    "### Your Solution Here"
   ]
  },
  {
   "cell_type": "markdown",
   "metadata": {},
   "source": [
    "- The strongest precint is **Southwest** precint."
   ]
  }
 ],
 "metadata": {
  "kernelspec": {
   "display_name": "Python 3",
   "language": "python",
   "name": "python3"
  },
  "language_info": {
   "codemirror_mode": {
    "name": "ipython",
    "version": 3
   },
   "file_extension": ".py",
   "mimetype": "text/x-python",
   "name": "python",
   "nbconvert_exporter": "python",
   "pygments_lexer": "ipython3",
   "version": "3.6.5"
  }
 },
 "nbformat": 4,
 "nbformat_minor": 2
}
